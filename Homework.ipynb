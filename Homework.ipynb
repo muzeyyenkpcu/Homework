{
 "cells": [
  {
   "cell_type": "markdown",
   "metadata": {},
   "source": [
    "# HOMEWORK"
   ]
  },
  {
   "cell_type": "code",
   "execution_count": 2,
   "metadata": {},
   "outputs": [
    {
     "name": "stdout",
     "output_type": "stream",
     "text": [
      "*****STUDENT SYSTEM*****\n",
      "Please enter your user name: Muzeyyen\n",
      "Please enter your user surname: Kapucu\n",
      "WELCOME..\n",
      "\n"
     ]
    }
   ],
   "source": [
    "print(\"*****STUDENT SYSTEM*****\")\n",
    "\n",
    "user_name = \"Muzeyyen\"\n",
    "user_surname =\"Kapucu\"\n",
    "\n",
    "counter = 3\n",
    "\n",
    "while True:\n",
    "    \n",
    "    if (counter > 0):\n",
    "        user_name1 = input(\"Please enter your user name: \")\n",
    "        user_surname1 = input(\"Please enter your user surname: \")\n",
    "        \n",
    "        if(user_name == user_name1 and user_surname == user_surname1):\n",
    "            print(\"WELCOME..\\n\")\n",
    "            break\n",
    "        elif (user_name != user_name1 and user_surname == user_surname1):\n",
    "            print(\"User name is incorrect!\")\n",
    "        elif (user_name == user_name1 and user_surname != user_surname1):\n",
    "            print(\"User surname is incorrect!\")\n",
    "        elif (user_name != user_name1 and user_surname != user_surname1):\n",
    "            print(\"User name and user surname are incorrect!\")\n",
    "            \n",
    "        counter -= 1\n",
    "\n",
    "    else:\n",
    "        print(\"Please try again later..\")\n",
    "        break"
   ]
  },
  {
   "cell_type": "code",
   "execution_count": 6,
   "metadata": {},
   "outputs": [
    {
     "name": "stdout",
     "output_type": "stream",
     "text": [
      "*****Course Selection*****\n",
      "Courses: \n",
      "(0) ---Time Series\n",
      "(1) ---Statistics\n",
      "(2) ---Math\n",
      "(3) ---Operations Research\n",
      "(4) ---Econometrics\n",
      "Please enter the course that you want to choose: \n",
      "Course name: 0\n",
      "Do you confirm the course you have chosen? (Y/N) Y\n",
      "1\n",
      "Course name: 1\n",
      "Do you confirm the course you have chosen? (Y/N) Y\n",
      "2\n",
      "Course name: 2\n",
      "Do you confirm the course you have chosen? (Y/N) Y\n",
      "3\n",
      "Course name: 3\n",
      "Do you confirm the course you have chosen? (Y/N) Y\n",
      "4\n",
      "Course name: 4\n",
      "Do you confirm the course you have chosen? (Y/N) Y\n",
      "5\n",
      "Your course selection is over. \n",
      "The courses you have chosen: \n",
      "0\n",
      "1\n",
      "2\n",
      "3\n",
      "4\n"
     ]
    }
   ],
   "source": [
    "courses = [\"Time Series\", \"Statistics\", \"Math\", \"Operations Research\", \"Econometrics\"]\n",
    "\n",
    "print(\"*****Course Selection*****\")\n",
    "print(\"Courses: \")\n",
    "for x,y in enumerate(courses):\n",
    "    print(\"(\" + str(x) + \") ---\" + y)\n",
    "\n",
    "print(\"Please enter the course that you want to choose: \")\n",
    "select_courses = []\n",
    "\n",
    "while True:\n",
    "    select = input(\"Course name: \")\n",
    "    select_courses.append(select)\n",
    "    confirm = input(\"Do you confirm the course you have chosen? (Y/N) \")\n",
    "    print(len(select_courses))\n",
    "    if confirm == \"N\" and len(select_courses) <= 3:\n",
    "        print(\"\\n You failed in class. \\n \")\n",
    "        break\n",
    "    if confirm == \"N\" and len(select_courses) >= 2:\n",
    "        print(\"\\n Your course selection has been approved. \\n\")\n",
    "        print(\"The courses you have chosen: \")\n",
    "        for i in select_courses:\n",
    "            print(i)\n",
    "        break\n",
    "    if len(select_courses) == 5:\n",
    "        print(\"Your course selection is over. \")\n",
    "        print(\"The courses you have chosen: \")\n",
    "        for i in select_courses:\n",
    "            print(i)\n",
    "        break\n",
    "    else:\n",
    "        continue"
   ]
  },
  {
   "cell_type": "code",
   "execution_count": 8,
   "metadata": {},
   "outputs": [
    {
     "name": "stdout",
     "output_type": "stream",
     "text": [
      "***STATISTICAL LETTER GRADE***\n",
      "26.0\n",
      "FF \n",
      "You failed the lesson..\n",
      "\n"
     ]
    }
   ],
   "source": [
    "print(\"***STATISTICAL LETTER GRADE***\")\n",
    "\n",
    "midterm = 10\n",
    "final = 30\n",
    "project = 40\n",
    "\n",
    "midterm1 = midterm * 0.3\n",
    "final1 = final * 0.5\n",
    "project1 = project * 0.20\n",
    "\n",
    "newpoint = midterm1 + final1 + project1\n",
    "print(newpoint)\n",
    "\n",
    " \n",
    "if 30 <= newpoint < 50:\n",
    "        print(\"DD\")\n",
    "elif 50 <= newpoint < 70:\n",
    "        print(\"CC\")\n",
    "elif 70 <= newpoint < 90:\n",
    "        print(\"BB\")\n",
    "else:\n",
    "    if newpoint < 30:\n",
    "        print(\"FF \\nYou failed the lesson..\\n\")\n",
    "    elif 90 <= newpoint <= 100:\n",
    "        print(\"AA\")"
   ]
  }
 ],
 "metadata": {
  "kernelspec": {
   "display_name": "Python 3",
   "language": "python",
   "name": "python3"
  },
  "language_info": {
   "codemirror_mode": {
    "name": "ipython",
    "version": 3
   },
   "file_extension": ".py",
   "mimetype": "text/x-python",
   "name": "python",
   "nbconvert_exporter": "python",
   "pygments_lexer": "ipython3",
   "version": "3.8.5"
  }
 },
 "nbformat": 4,
 "nbformat_minor": 4
}
